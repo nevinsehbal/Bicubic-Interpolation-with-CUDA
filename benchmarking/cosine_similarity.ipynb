{
 "cells": [
  {
   "cell_type": "code",
   "execution_count": 12,
   "metadata": {},
   "outputs": [
    {
     "name": "stderr",
     "output_type": "stream",
     "text": [
      "c:\\Users\\user\\miniconda3\\envs\\boptestgym\\lib\\site-packages\\PIL\\Image.py:3218: DecompressionBombWarning: Image size (101303280 pixels) exceeds limit of 89478485 pixels, could be decompression bomb DOS attack.\n",
      "  warnings.warn(\n"
     ]
    },
    {
     "name": "stdout",
     "output_type": "stream",
     "text": [
      "Cosine similarity between Image 1 and Image 2: 0.9999749438601941\n",
      "Cosine similarity between Image 1 and Image 3: 1.0000000000000007\n",
      "Cosine similarity between Image 2 and Image 3: 0.9999749438601941\n"
     ]
    }
   ],
   "source": [
    "from skimage import io\n",
    "from skimage.transform import resize\n",
    "from sklearn.metrics.pairwise import cosine_similarity\n",
    "import numpy as np\n",
    "\n",
    "def preprocess_image(image_path, target_size=(100, 100)):\n",
    "    image = io.imread(image_path)\n",
    "    image = resize(image, target_size, anti_aliasing=True)\n",
    "    return image.flatten().reshape(1, -1)\n",
    "\n",
    "def calculate_cosine_similarity(image1, image2):\n",
    "    return cosine_similarity(image1, image2)[0][0]\n",
    "\n",
    "# Paths to the three images\n",
    "image_paths = [\"../samples/gpu_streams/bird.jpg\", \"../samples/cpu_cv2_python/bird_upscaled.png\", \"../samples/cpu_cpp/bird_bicubic_interpolated.png\"]\n",
    "\n",
    "# Preprocess the images\n",
    "images = [preprocess_image(image_path) for image_path in image_paths]\n",
    "\n",
    "# Calculate cosine similarity between the images\n",
    "similarities = []\n",
    "for i in range(len(images)):\n",
    "    for j in range(i+1, len(images)):\n",
    "        similarity = calculate_cosine_similarity(images[i], images[j])\n",
    "        similarities.append((f\"Image {i+1} and Image {j+1}\", similarity))\n",
    "\n",
    "# Print the results\n",
    "for pair, similarity in similarities:\n",
    "    print(f\"Cosine similarity between {pair}: {similarity}\")\n"
   ]
  },
  {
   "cell_type": "markdown",
   "metadata": {},
   "source": [
    "Cosine similarity between Image 1 and Image 2: 0.9999749438601941\n",
    "Cosine similarity between Image 1 and Image 3: 1.0000000000000007\n",
    "Cosine similarity between Image 2 and Image 3: 0.9999749438601941"
   ]
  },
  {
   "cell_type": "code",
   "execution_count": 13,
   "metadata": {},
   "outputs": [],
   "source": [
    "orig_image = preprocess_image(\"../samples/original_images/bird.jpg\")\n",
    "\n",
    "similarities = []\n",
    "for i in range(len(images)):\n",
    "    similarity = calculate_cosine_similarity(orig_image, images[i])\n",
    "    similarities.append((f\"Original Image and Image {i+1}\", similarity))"
   ]
  },
  {
   "cell_type": "code",
   "execution_count": 14,
   "metadata": {},
   "outputs": [
    {
     "name": "stdout",
     "output_type": "stream",
     "text": [
      "Cosine similarity between Original Image and Image 1: 0.9999734651134202\n",
      "Cosine similarity between Original Image and Image 2: 0.9999993604823656\n",
      "Cosine similarity between Original Image and Image 3: 0.9999734651134202\n"
     ]
    }
   ],
   "source": [
    "for pair, similarity in similarities:\n",
    "    print(f\"Cosine similarity between {pair}: {similarity}\")"
   ]
  },
  {
   "cell_type": "markdown",
   "metadata": {},
   "source": [
    "Cosine similarity between Original Image and Image 1: 0.9999734651134202\n",
    "Cosine similarity between Original Image and Image 2: 0.9999993604823656\n",
    "Cosine similarity between Original Image and Image 3: 0.9999734651134202"
   ]
  }
 ],
 "metadata": {
  "kernelspec": {
   "display_name": "boptestgym",
   "language": "python",
   "name": "python3"
  },
  "language_info": {
   "codemirror_mode": {
    "name": "ipython",
    "version": 3
   },
   "file_extension": ".py",
   "mimetype": "text/x-python",
   "name": "python",
   "nbconvert_exporter": "python",
   "pygments_lexer": "ipython3",
   "version": "3.10.11"
  }
 },
 "nbformat": 4,
 "nbformat_minor": 2
}
